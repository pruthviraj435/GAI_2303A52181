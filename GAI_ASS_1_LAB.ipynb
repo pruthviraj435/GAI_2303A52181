{
  "nbformat": 4,
  "nbformat_minor": 0,
  "metadata": {
    "colab": {
      "provenance": [],
      "authorship_tag": "ABX9TyPC8t2BJvpUhi8NiFKCu4/U",
      "include_colab_link": true
    },
    "kernelspec": {
      "name": "python3",
      "display_name": "Python 3"
    },
    "language_info": {
      "name": "python"
    }
  },
  "cells": [
    {
      "cell_type": "markdown",
      "metadata": {
        "id": "view-in-github",
        "colab_type": "text"
      },
      "source": [
        "<a href=\"https://colab.research.google.com/github/pruthviraj435/GAI_2303A52181/blob/main/GAI_ASS_1_LAB.ipynb\" target=\"_parent\"><img src=\"https://colab.research.google.com/assets/colab-badge.svg\" alt=\"Open In Colab\"/></a>"
      ]
    },
    {
      "cell_type": "code",
      "execution_count": 1,
      "metadata": {
        "colab": {
          "base_uri": "https://localhost:8080/"
        },
        "id": "WqyZ28wM8bWz",
        "outputId": "2a6d7cdf-f353-46b8-ddbd-6040765704ff"
      },
      "outputs": [
        {
          "output_type": "stream",
          "name": "stdout",
          "text": [
            "Manual MAE: 0.4600000000000016\n",
            "Manual MSE: 0.24600000000000147\n",
            "Manual RMSE: 0.49598387070549127\n",
            "Manual R2: 0.99877\n",
            "Library MAE: 0.4600000000000016\n",
            "Library MSE: 0.24600000000000147\n",
            "Library RMSE: 0.49598387070549127\n",
            "Library R2: 0.99877\n"
          ]
        }
      ],
      "source": [
        "import numpy as np\n",
        "from sklearn.metrics import mean_absolute_error, mean_squared_error, r2_score\n",
        "\n",
        "Y_actual = np.array([20, 30, 40, 50, 60])\n",
        "Y_pred = np.array([20.5, 30.3, 40.2, 50.6, 60.7])\n",
        "\n",
        "mae_manual = np.mean(np.abs(Y_actual - Y_pred))\n",
        "mse_manual = np.mean((Y_actual - Y_pred) ** 2)\n",
        "rmse_manual = np.sqrt(mse_manual)\n",
        "r2_manual = 1 - (np.sum((Y_actual - Y_pred) ** 2) / np.sum((Y_actual - np.mean(Y_actual)) ** 2))\n",
        "\n",
        "print(f\"Manual MAE: {mae_manual}\")\n",
        "print(f\"Manual MSE: {mse_manual}\")\n",
        "print(f\"Manual RMSE: {rmse_manual}\")\n",
        "print(f\"Manual R2: {r2_manual}\")\n",
        "\n",
        "mae_lib = mean_absolute_error(Y_actual, Y_pred)\n",
        "mse_lib = mean_squared_error(Y_actual, Y_pred)\n",
        "rmse_lib = np.sqrt(mse_lib)\n",
        "r2_lib = r2_score(Y_actual, Y_pred)\n",
        "\n",
        "print(f\"Library MAE: {mae_lib}\")\n",
        "print(f\"Library MSE: {mse_lib}\")\n",
        "print(f\"Library RMSE: {rmse_lib}\")\n",
        "print(f\"Library R2: {r2_lib}\")\n"
      ]
    },
    {
      "cell_type": "code",
      "source": [
        "import numpy as np\n",
        "from sklearn.metrics import accuracy_score, precision_score, recall_score, f1_score, confusion_matrix\n",
        "\n",
        "Y_actual = np.array([0, 0, 1, 1, 2, 0, 0, 1, 0, 2, 0, 2, 1, 2, 2])\n",
        "Y_pred = np.array([0, 0, 1, 0, 2, 0, 1, 1, 2, 2, 2, 2, 1, 2, 2])\n",
        "\n",
        "accuracy_manual = np.mean(Y_actual == Y_pred)\n",
        "precision_manual = np.sum((Y_actual == Y_pred) & (Y_actual == 1)) / np.sum(Y_pred == 1) if np.sum(Y_pred == 1) > 0 else 0\n",
        "recall_manual = np.sum((Y_actual == Y_pred) & (Y_actual == 1)) / np.sum(Y_actual == 1) if np.sum(Y_actual == 1) > 0 else 0\n",
        "f1_manual = 2 * (precision_manual * recall_manual) / (precision_manual + recall_manual) if precision_manual + recall_manual > 0 else 0\n",
        "confusion_matrix_manual = np.zeros((3, 3), dtype=int)\n",
        "for true, pred in zip(Y_actual, Y_pred):\n",
        "    confusion_matrix_manual[true][pred] += 1\n",
        "\n",
        "print(f\"Manual Accuracy: {accuracy_manual}\")\n",
        "print(f\"Manual Precision: {precision_manual}\")\n",
        "print(f\"Manual Recall: {recall_manual}\")\n",
        "print(f\"Manual F1-Score: {f1_manual}\")\n",
        "print(f\"Manual Confusion Matrix:\\n{confusion_matrix_manual}\")\n",
        "\n",
        "accuracy_lib = accuracy_score(Y_actual, Y_pred)\n",
        "precision_lib = precision_score(Y_actual, Y_pred, average='weighted', labels=np.unique(Y_pred))\n",
        "recall_lib = recall_score(Y_actual, Y_pred, average='weighted', labels=np.unique(Y_pred))\n",
        "f1_lib = f1_score(Y_actual, Y_pred, average='weighted', labels=np.unique(Y_pred))\n",
        "confusion_matrix_lib = confusion_matrix(Y_actual, Y_pred)\n",
        "\n",
        "print(f\"Library Accuracy: {accuracy_lib}\")\n",
        "print(f\"Library Precision: {precision_lib}\")\n",
        "print(f\"Library Recall: {recall_lib}\")\n",
        "print(f\"Library F1-Score: {f1_lib}\")\n",
        "print(f\"Library Confusion Matrix:\\n{confusion_matrix_lib}\")\n",
        "\n"
      ],
      "metadata": {
        "colab": {
          "base_uri": "https://localhost:8080/"
        },
        "id": "UtRIrU6z-SkL",
        "outputId": "3fea1032-cdd5-47fa-9d3e-d699708391e5"
      },
      "execution_count": 5,
      "outputs": [
        {
          "output_type": "stream",
          "name": "stdout",
          "text": [
            "Manual Accuracy: 0.7333333333333333\n",
            "Manual Precision: 0.75\n",
            "Manual Recall: 0.75\n",
            "Manual F1-Score: 0.75\n",
            "Manual Confusion Matrix:\n",
            "[[3 1 2]\n",
            " [1 3 0]\n",
            " [0 0 5]]\n",
            "Library Accuracy: 0.7333333333333333\n",
            "Library Precision: 0.738095238095238\n",
            "Library Recall: 0.7333333333333333\n",
            "Library F1-Score: 0.7177777777777777\n",
            "Library Confusion Matrix:\n",
            "[[3 1 2]\n",
            " [1 3 0]\n",
            " [0 0 5]]\n"
          ]
        }
      ]
    }
  ]
}